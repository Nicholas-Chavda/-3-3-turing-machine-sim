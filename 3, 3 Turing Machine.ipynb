{
 "cells": [
  {
   "cell_type": "code",
   "execution_count": 172,
   "metadata": {},
   "outputs": [],
   "source": [
    "'''\n",
    "!pip install ipycanvas\n",
    "!pip install pandas\n",
    "'''"
   ]
  },
  {
   "cell_type": "code",
   "execution_count": 12,
   "metadata": {},
   "outputs": [],
   "source": [
    "import numpy as np\n",
    "import pandas as pd\n",
    "from ipycanvas import MultiCanvas, Canvas, hold_canvas"
   ]
  },
  {
   "cell_type": "code",
   "execution_count": 13,
   "metadata": {},
   "outputs": [],
   "source": [
    "#Write program manualy\n",
    "#                1  0  b  R  A  B  C\n",
    "program_memory= [[0, 0, 1, 0, 0, 1, 0], #   1\n",
    "                 [1, 0, 0, 0, 1, 0, 0], # A 0\n",
    "                 [0, 0, 1, 0, 0, 0, 1], #   b\n",
    "                 \n",
    "                 [1, 0, 0, 0, 0, 1, 0], #   1\n",
    "                 [0, 1, 0, 1, 1, 0, 0], # B 0\n",
    "                 [0, 0, 0, 0, 0, 0, 0], #   b\n",
    "                 \n",
    "                 [0, 1, 0, 1, 0, 0, 1], #   1\n",
    "                 [0, 0, 1, 0, 1, 0, 0], # C 0\n",
    "                 [1, 0, 0, 1, 0, 0, 1]] #   b"
   ]
  },
  {
   "cell_type": "code",
   "execution_count": 14,
   "metadata": {},
   "outputs": [],
   "source": [
    "#Import program"
   ]
  },
  {
   "cell_type": "code",
   "execution_count": 15,
   "metadata": {},
   "outputs": [],
   "source": [
    "#Write data tape manualy\n",
    "input_tape='001b001b001b00010b110b0b110b'\n",
    "data_tape=list(input_tape)"
   ]
  },
  {
   "cell_type": "code",
   "execution_count": 16,
   "metadata": {},
   "outputs": [
    {
     "data": {
      "text/plain": [
       "\"\\n#Import data tape\\ndata_tape=list(open('Input Tape.txt').read())\\nprint(''.join(input_tape))\\n\""
      ]
     },
     "execution_count": 16,
     "metadata": {},
     "output_type": "execute_result"
    }
   ],
   "source": [
    "'''\n",
    "#Import data tape\n",
    "data_tape=list(open('Input Tape.txt').read())\n",
    "print(''.join(input_tape))\n",
    "'''"
   ]
  },
  {
   "cell_type": "code",
   "execution_count": 17,
   "metadata": {},
   "outputs": [],
   "source": [
    "#Initial setup\n",
    "initial_state='A'\n",
    "initial_tape_position=15\n",
    "iterations=93"
   ]
  },
  {
   "cell_type": "code",
   "execution_count": 18,
   "metadata": {},
   "outputs": [
    {
     "data": {
      "application/vnd.jupyter.widget-view+json": {
       "model_id": "b77bfbddd7d64f6e8622e2926053d688",
       "version_major": 2,
       "version_minor": 0
      },
      "text/plain": [
       "MultiCanvas(height=1900)"
      ]
     },
     "metadata": {},
     "output_type": "display_data"
    }
   ],
   "source": [
    "#Create output images\n",
    "block_size=20\n",
    "multi_canvas = MultiCanvas(2, width=block_size*(len(data_tape)+7), height=block_size*(iterations+2))\n",
    "multi_canvas[0].fill_style = 'black'\n",
    "multi_canvas[0].fill_rect(0, 0, block_size*(len(data_tape)+7), height=block_size*(iterations+2))\n",
    "\n",
    "#Setup font\n",
    "multi_canvas[1].font = '18px Lucida Console '\n",
    "multi_canvas[1].fill_style = '#00ff00'\n",
    "text_offset_x=4\n",
    "text_offset_y=15\n",
    "\n",
    "#create blocks to fill the canvas\n",
    "canvas_1=Canvas(height=block_size, width=block_size)\n",
    "canvas_1.fill_style='#00cc00'\n",
    "canvas_1.fill_rect(1, 1, width=block_size-2, height=block_size-2)\n",
    "canvas_0=Canvas(height=block_size, width=block_size)\n",
    "canvas_0.fill_style='#3366ff'\n",
    "canvas_0.fill_rect(1, 1, width=block_size-2, height=block_size-2)\n",
    "canvas_b=Canvas(height=block_size, width=block_size)\n",
    "canvas_b.fill_style='yellow'\n",
    "canvas_b.fill_rect(1, 1, width=block_size-2, height=block_size-2)\n",
    "canvas_head=Canvas(height=block_size,width=block_size)\n",
    "head_size=8\n",
    "canvas_head.fill_style='black'\n",
    "canvas_head.fill_rect((block_size-head_size)/2, (block_size-head_size)/2, width=head_size, height=head_size)\n",
    "\n",
    "#multi_canvas[1].draw_image(canvas_1, 0, 0)\n",
    "#multi_canvas[1].draw_image(canvas_head, 0, 0)\n",
    "#multi_canvas[1].fill_text('A', 2, 15)\n",
    "multi_canvas"
   ]
  },
  {
   "cell_type": "code",
   "execution_count": 19,
   "metadata": {},
   "outputs": [],
   "source": [
    "#Create variables to save reader head position and instrction row during iterations\n",
    "if initial_state=='A':\n",
    "    current_instruction=0\n",
    "elif initial_state=='B':\n",
    "    current_instruction=3\n",
    "elif initial_state=='C':\n",
    "    current_instruction=6\n",
    "current_tape_position=initial_tape_position\n",
    "\n",
    "last_write='X'\n",
    "\n",
    "#Output history table\n",
    "output_history=pd.DataFrame([['0','0',0,'0']],columns=['State','Data Tape','Reader head position','Symbol read'])"
   ]
  },
  {
   "cell_type": "code",
   "execution_count": 20,
   "metadata": {},
   "outputs": [],
   "source": [
    "#Controler code\n",
    "for i in range(0,iterations):   \n",
    "    #save result to dataframe (Output: Iteration | State | Data Tape | Reader head position | Symbol)\n",
    "    if 0<=current_instruction<=2:\n",
    "        output_history.at[i,'State']= 'A'    \n",
    "    if 3<=current_instruction<=5:\n",
    "        output_history.at[i,'State']= 'B'  \n",
    "    if 6<=current_instruction<=8:\n",
    "        output_history.at[i,'State']= 'C' \n",
    "    output_history.at[i,'Data Tape']= ''.join(data_tape)\n",
    "    output_history.at[i,'Reader head position']=current_tape_position\n",
    "    output_history.at[i,'Symbol read']=input_tape[current_tape_position]\n",
    "    \n",
    "    #Draw to output image\n",
    "    with hold_canvas(multi_canvas[1]):\n",
    "        if 0<=current_instruction<=2:\n",
    "            multi_canvas[1].fill_text('A', text_offset_x+block_size*3, text_offset_y+(i+1)*block_size)\n",
    "        if 3<=current_instruction<=5:\n",
    "            multi_canvas[1].fill_text('B', text_offset_x+block_size*3, text_offset_y+(i+1)*block_size)\n",
    "        if 6<=current_instruction<=8:\n",
    "            multi_canvas[1].fill_text('C', text_offset_x+block_size*3, text_offset_y+(i+1)*block_size)\n",
    "        for j in range(0,len(data_tape)):\n",
    "            if data_tape[j]=='1':\n",
    "                multi_canvas[1].draw_image(canvas_1, block_size*(4+j), block_size*(i+1))\n",
    "            if data_tape[j]=='0':\n",
    "                multi_canvas[1].draw_image(canvas_0, block_size*(4+j), block_size*(i+1))\n",
    "            if data_tape[j]=='b':\n",
    "                multi_canvas[1].draw_image(canvas_b, block_size*(4+j), block_size*(i+1))\n",
    "            if j==current_tape_position:\n",
    "                multi_canvas[1].draw_image(canvas_head, block_size*(4+j), block_size*(i+1))     \n",
    "        multi_canvas[1].fill_text(i, text_offset_x+block_size*1, text_offset_y+(i+1)*block_size)\n",
    "        multi_canvas[1].fill_text('✎'+last_write, text_offset_x+block_size*(len(data_tape)+4), text_offset_y+(i+1)*block_size)\n",
    "    \n",
    "    #Read and find current instruction\n",
    "    if data_tape[current_tape_position] == '1':\n",
    "        current_instruction=current_instruction\n",
    "    elif data_tape[current_tape_position] == '0':\n",
    "        current_instruction=current_instruction+1\n",
    "    elif data_tape[current_tape_position] == 'b':\n",
    "        current_instruction=current_instruction+2\n",
    "        \n",
    "    #write to tape\n",
    "    if program_memory[current_instruction][0]:\n",
    "        data_tape[current_tape_position]='1'\n",
    "    if program_memory[current_instruction][1]:\n",
    "        data_tape[current_tape_position]='0'\n",
    "    if program_memory[current_instruction][2]:\n",
    "        data_tape[current_tape_position]='b'\n",
    "    last_write=data_tape[current_tape_position] #saved for image output next iteration\n",
    "    \n",
    "    #move tape\n",
    "    if program_memory[current_instruction][3]:\n",
    "        current_tape_position+= 1\n",
    "    else:\n",
    "        current_tape_position-= 1\n",
    "\n",
    "    #change state\n",
    "    if program_memory[current_instruction][4]:\n",
    "        current_instruction=0\n",
    "    elif program_memory[current_instruction][5]:\n",
    "        current_instruction=3\n",
    "    elif program_memory[current_instruction][6]:\n",
    "        current_instruction=6\n",
    "    else:\n",
    "        current_instruction=0"
   ]
  },
  {
   "cell_type": "code",
   "execution_count": null,
   "metadata": {},
   "outputs": [],
   "source": []
  }
 ],
 "metadata": {
  "kernelspec": {
   "display_name": "Python 3",
   "language": "python",
   "name": "python3"
  },
  "language_info": {
   "codemirror_mode": {
    "name": "ipython",
    "version": 3
   },
   "file_extension": ".py",
   "mimetype": "text/x-python",
   "name": "python",
   "nbconvert_exporter": "python",
   "pygments_lexer": "ipython3",
   "version": "3.7.3"
  }
 },
 "nbformat": 4,
 "nbformat_minor": 2
}
